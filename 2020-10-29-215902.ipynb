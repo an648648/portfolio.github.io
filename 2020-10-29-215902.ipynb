{
 "cells": [
  {
   "cell_type": "code",
   "execution_count": 0,
   "metadata": {
    "collapsed": false
   },
   "outputs": [
   ],
   "source": [
    "# Converting x in seconds to miliseconds, in the 'rt' column of dataframe df\n",
    "\n",
    "def conversion (x):\n",
    "    return x * 1000\n",
    "df['rt'] = df['rt'].apply(conversion)\n",
    "\n",
    "# Example from Assignment 3 (NESC3505)"
   ]
  },
  {
   "cell_type": "code",
   "execution_count": 0,
   "metadata": {
    "collapsed": false
   },
   "outputs": [
   ],
   "source": [
    "# Transforming z to an inverse function of column 'rt' in dataframe df\n",
    "\n",
    "def transform (z):\n",
    "    return 1/r\n",
    "df['invert' = df['rt'].apply(transform)\n",
    "\n",
    "# Example from Assignment 3 (NESC3505)"
   ]
  },
  {
   "cell_type": "code",
   "execution_count": 0,
   "metadata": {
    "collapsed": false
   },
   "outputs": [
   ],
   "source": [
    "# Using if/else statements to manipulate data\n",
    "\n",
    "x = 4\n",
    "if x **2 == 16:\n",
    "    print('x is correct')\n",
    "else:\n",
    "    print('x is false')\n",
    "\n",
    "# Example of if/else statements as I learned in DataCamp lessons"
   ]
  }
 ],
 "metadata": {
  "kernelspec": {
   "display_name": "Python 3 (system-wide)",
   "language": "python",
   "metadata": {
    "cocalc": {
     "description": "Python 3 programming language",
     "priority": 100,
     "url": "https://www.python.org/"
    }
   },
   "name": "python3"
  },
  "language_info": {
   "codemirror_mode": {
    "name": "ipython",
    "version": 3
   },
   "file_extension": ".py",
   "mimetype": "text/x-python",
   "name": "python",
   "nbconvert_exporter": "python",
   "pygments_lexer": "ipython3",
   "version": "3.8.5"
  }
 },
 "nbformat": 4,
 "nbformat_minor": 4
}