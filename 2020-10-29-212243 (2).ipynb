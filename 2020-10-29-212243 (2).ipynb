{
 "cells": [
  {
   "cell_type": "code",
   "execution_count": 6,
   "metadata": {
    "collapsed": false
   },
   "outputs": [
   ],
   "source": [
    "# Importing necessary libraries\n",
    "\n",
    "import pandas as pd\n",
    "import numpy as np\n",
    "import matplotlib.pyplot as plt\n",
    "\n",
    "# Example from Assignment 3 (NESC3505)"
   ]
  },
  {
   "cell_type": "code",
   "execution_count": 7,
   "metadata": {
    "collapsed": false
   },
   "outputs": [
   ],
   "source": [
    "# Subject data \n",
    "\n",
    "subjects = ['001_2015_05_22_11_30',\n",
    "           '002_2015_05_25_14_36',\n",
    "           '003_2015_05_28_14_09'\n",
    "           ]\n",
    "\n",
    "# Example from Assignment 3 (NESC3505)"
   ]
  },
  {
   "cell_type": "code",
   "execution_count": 8,
   "metadata": {
    "collapsed": false
   },
   "outputs": [
    {
     "name": "stdout",
     "output_type": "stream",
     "text": [
      "001_2015_05_22_11_30/001_2015_05_22_11_30_data.txt\n"
     ]
    }
   ],
   "source": [
    "# Creating a subdirectory for Python to find the first subject's file path\n",
    "\n",
    "in_file = subjects[0] + ('/') + subjects[0] + ('_data.txt')\n",
    "print(in_file)\n",
    "\n",
    "# Example from Assignment 3 (NESC3505)"
   ]
  },
  {
   "cell_type": "code",
   "execution_count": 11,
   "metadata": {
    "collapsed": false
   },
   "outputs": [
   ],
   "source": [
    "# Reading in the first data file\n",
    "\n",
    "df = pd.read_csv(in_file)\n",
    "\n",
    "# Example from Assignment 3 (NESC3505)"
   ]
  }
 ],
 "metadata": {
  "kernelspec": {
   "display_name": "Python 3 (system-wide)",
   "language": "python",
   "metadata": {
    "cocalc": {
     "description": "Python 3 programming language",
     "priority": 100,
     "url": "https://www.python.org/"
    }
   },
   "name": "python3"
  }
 },
 "nbformat": 4,
 "nbformat_minor": 4
}